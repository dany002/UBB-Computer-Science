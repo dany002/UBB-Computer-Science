{
 "cells": [
  {
   "cell_type": "markdown",
   "id": "b8210b19",
   "metadata": {},
   "source": [
    "## A.I. Assignment 5\n",
    "\n",
    "## Learning Goals\n",
    "\n",
    "By the end of this lab, you should be able to:\n",
    "* Get more familiar with tensors in pytorch \n",
    "* Create a simple multilayer perceptron model with pytorch\n",
    "* Visualise the parameters\n",
    "\n",
    "\n",
    "### Task\n",
    "\n",
    "Build a fully connected feed forward network that adds two bits. Determine the a propper achitecture for this network (what database you use for this problem? how many layers? how many neurons on each layer? what is the activation function? what is the loss function? etc)\n",
    "\n",
    "Create at least 3 such networks and compare their performance (how accurate they are?, how farst they are trained to get at 1 accuracy?)\n",
    "\n",
    "Display for the best one the weights for each layer.\n"
   ]
  },
  {
   "cell_type": "code",
   "execution_count": 1,
   "id": "e3614e5f",
   "metadata": {},
   "outputs": [],
   "source": [
    "import torch\n",
    "import torch.nn as nn\n",
    "from collections import OrderedDict\n"
   ]
  },
  {
   "cell_type": "code",
   "execution_count": 52,
   "id": "5ee7e7d7",
   "metadata": {},
   "outputs": [],
   "source": [
    "# your code here\n",
    "#model1 = nn.Sequential(OrderedDict([\n",
    "#    ('hidden', nn.\n",
    "#]))\n",
    "\n",
    "\n",
    "# Define the neural network model using OrderedDict\n",
    "model = nn.Sequential(OrderedDict([\n",
    "    ('fc1', nn.Linear(2, 4)), # 1st hidden layer -> 4 neurons\n",
    "    ('relu1', nn.ReLU()), # relu activation function\n",
    "    ('fc2', nn.Linear(4, 1)), # output layer 4 neurons\n",
    "    ('sigmoid', nn.Sigmoid()) # sigmoid activation function\n",
    "]))"
   ]
  },
  {
   "cell_type": "code",
   "execution_count": 53,
   "id": "665ae958",
   "metadata": {},
   "outputs": [
    {
     "name": "stdout",
     "output_type": "stream",
     "text": [
      "Sequential(\n",
      "  (fc1): Linear(in_features=2, out_features=4, bias=True)\n",
      "  (relu1): ReLU()\n",
      "  (fc2): Linear(in_features=4, out_features=1, bias=True)\n",
      "  (sigmoid): Sigmoid()\n",
      ")\n"
     ]
    }
   ],
   "source": [
    "print(model)"
   ]
  },
  {
   "cell_type": "code",
   "execution_count": 54,
   "id": "e26f0d3e",
   "metadata": {},
   "outputs": [
    {
     "name": "stdout",
     "output_type": "stream",
     "text": [
      "tensor([[0., 0.],\n",
      "        [0., 1.],\n",
      "        [1., 0.],\n",
      "        [1., 1.]])\n"
     ]
    }
   ],
   "source": [
    "# your code here\n",
    "#data_in = torch.tensor( ...\n",
    "data_in = torch.tensor([[0,0], [0,1], [1,0], [1,1]], dtype=torch.float)\n",
    "print(data_in)"
   ]
  },
  {
   "cell_type": "code",
   "execution_count": 71,
   "id": "4fb16bbc",
   "metadata": {},
   "outputs": [
    {
     "name": "stdout",
     "output_type": "stream",
     "text": [
      "tensor([[0., 0.],\n",
      "        [0., 1.],\n",
      "        [0., 1.],\n",
      "        [1., 0.]])\n"
     ]
    }
   ],
   "source": [
    "# your code here\n",
    "# data_target = torch.tensor( ...\n",
    "data_target = torch.tensor([0, 0,0,1,0, 1,1, 0], dtype=torch.float).reshape(-1,2)\n",
    "\n",
    "print(data_target)"
   ]
  },
  {
   "cell_type": "code",
   "execution_count": 56,
   "id": "69d920ed",
   "metadata": {},
   "outputs": [],
   "source": [
    "# your code here\n",
    "# criterion = \n",
    "# optimizer = \n",
    "\n",
    "criterion = nn.MSELoss()\n",
    "optimizer = torch.optim.SGD(model.parameters(), lr=0.1)"
   ]
  },
  {
   "cell_type": "code",
   "execution_count": 66,
   "id": "cde91f6f",
   "metadata": {},
   "outputs": [
    {
     "name": "stdout",
     "output_type": "stream",
     "text": [
      "Epoch [1000/10000], Loss: 0.0000\n",
      "Epoch [2000/10000], Loss: 0.0000\n",
      "Epoch [3000/10000], Loss: 0.0000\n",
      "Epoch [4000/10000], Loss: 0.0000\n",
      "Epoch [5000/10000], Loss: 0.0000\n",
      "Epoch [6000/10000], Loss: 0.0000\n",
      "Epoch [7000/10000], Loss: 0.0000\n",
      "Epoch [8000/10000], Loss: 0.0000\n",
      "Epoch [9000/10000], Loss: 0.0000\n",
      "Epoch [10000/10000], Loss: 0.0000\n"
     ]
    }
   ],
   "source": [
    "# your code here\n",
    "# Train the model\n",
    "for epoch in range(10000):\n",
    "    # Forward pass\n",
    "    outputs = model(x_train)\n",
    "    loss = criterion(outputs, data_target.view(-1, 1))\n",
    "    \n",
    "    # Backward and optimize\n",
    "    optimizer.zero_grad()\n",
    "    loss.backward()\n",
    "    optimizer.step()\n",
    "\n",
    "    if (epoch+1) % 1000 == 0:\n",
    "        print(f'Epoch [{epoch+1}/10000], Loss: {loss.item():.4f}')"
   ]
  },
  {
   "cell_type": "code",
   "execution_count": 34,
   "id": "67bc6701-7762-4c96-88f7-a736265a0702",
   "metadata": {
    "tags": []
   },
   "outputs": [
    {
     "name": "stdout",
     "output_type": "stream",
     "text": [
      "Accuracy: 1.00\n"
     ]
    }
   ],
   "source": [
    "# your code here\n",
    "# visualize the resuts\n",
    "\n",
    "with torch.no_grad():\n",
    "    predicted = model(x_train).round()\n",
    "    accuracy = (predicted == data_target.view(-1, 1)).sum().item() / data_target.size(0)\n",
    "    print(f'Accuracy: {accuracy:.2f}')"
   ]
  },
  {
   "cell_type": "code",
   "execution_count": 35,
   "id": "c1a7518b",
   "metadata": {},
   "outputs": [
    {
     "name": "stdout",
     "output_type": "stream",
     "text": [
      "fc1.weight tensor([[ 0.3948, -0.5424],\n",
      "        [-3.2598,  3.2598],\n",
      "        [-1.9878,  2.0160],\n",
      "        [-0.2557,  0.3856]])\n",
      "fc1.bias tensor([-4.3264e-01, -1.2986e-04,  1.9877e+00,  2.5566e-01])\n",
      "fc2.weight tensor([[-0.4264,  4.5606, -3.3938, -0.3695]])\n",
      "fc2.bias tensor([3.0620])\n"
     ]
    }
   ],
   "source": [
    "# your code here\n",
    "# print model wights\n",
    "\n",
    "for name, param in model.named_parameters():\n",
    "    if param.requires_grad:\n",
    "        print(name, param.data)"
   ]
  },
  {
   "cell_type": "code",
   "execution_count": 50,
   "id": "4cdf09ba",
   "metadata": {},
   "outputs": [
    {
     "name": "stdout",
     "output_type": "stream",
     "text": [
      "Epoch [1000/10000], Loss: 0.1827\n",
      "Epoch [2000/10000], Loss: 0.0368\n",
      "Epoch [3000/10000], Loss: 0.0101\n",
      "Epoch [4000/10000], Loss: 0.0055\n",
      "Epoch [5000/10000], Loss: 0.0037\n",
      "Epoch [6000/10000], Loss: 0.0027\n",
      "Epoch [7000/10000], Loss: 0.0021\n",
      "Epoch [8000/10000], Loss: 0.0018\n",
      "Epoch [9000/10000], Loss: 0.0015\n",
      "Epoch [10000/10000], Loss: 0.0013\n",
      "Accuracy: 2.00\n",
      "Model weights:\n",
      "fc1.weight tensor([[ 0.7763,  0.7762],\n",
      "        [ 2.2481,  2.2481],\n",
      "        [-2.3608, -2.3608]])\n",
      "fc1.bias tensor([-0.7762, -2.2482,  2.3605])\n",
      "fc2.weight tensor([[-0.9375, -2.6966, -2.8805],\n",
      "        [-0.5819, -2.8232, -2.8765]])\n",
      "fc2.bias tensor([3.0553, 3.0547])\n"
     ]
    }
   ],
   "source": [
    "import torch\n",
    "import torch.nn as nn\n",
    "from collections import OrderedDict\n",
    "\n",
    "# Define the input and output data\n",
    "data_in = torch.tensor([[0,0], [0,1], [1,0], [1,1]], dtype=torch.float)\n",
    "data_target = torch.tensor([0, 1, 1, 0], dtype=torch.float)\n",
    "\n",
    "# Define the neural network model using OrderedDict\n",
    "model = nn.Sequential(OrderedDict([\n",
    "    ('fc1', nn.Linear(2, 3)),  # 1st hidden layer, 3 neurons\n",
    "    ('ReLU', nn.ReLU()), # relu activation func\n",
    "    ('fc2', nn.Linear(3, 2)), # output 3 neurons\n",
    "    ('sigmoid', nn.Sigmoid()) # sigmoid activation func\n",
    "]))\n",
    "\n",
    "# Define the loss function and optimizer\n",
    "criterion = nn.MSELoss()\n",
    "optimizer = torch.optim.SGD(model.parameters(), lr=0.1)\n",
    "\n",
    "# Train the model\n",
    "for epoch in range(10000):\n",
    "    # Forward pass\n",
    "    outputs = model(data_in)\n",
    "    loss = criterion(outputs, data_target.view(-1, 1))\n",
    "    \n",
    "    # Backward and optimize\n",
    "    optimizer.zero_grad()\n",
    "    loss.backward()\n",
    "    optimizer.step()\n",
    "\n",
    "    if (epoch+1) % 1000 == 0:\n",
    "        print(f'Epoch [{epoch+1}/10000], Loss: {loss.item():.4f}')\n",
    "\n",
    "# Test the model\n",
    "with torch.no_grad():\n",
    "    predicted = model(data_in).round()\n",
    "    accuracy = (predicted == data_target.view(-1, 1)).sum().item() / data_target.size(0)\n",
    "    print(f'Accuracy: {accuracy:.2f}')\n",
    "    \n",
    "print(f'Model weights:')\n",
    "\n",
    "for name, param in model.named_parameters():\n",
    "    if param.requires_grad:\n",
    "        print(name, param.data)\n"
   ]
  },
  {
   "cell_type": "code",
   "execution_count": 45,
   "id": "d0bea66c",
   "metadata": {},
   "outputs": [
    {
     "name": "stdout",
     "output_type": "stream",
     "text": [
      "Epoch [1000/10000], Loss: 0.2498\n",
      "Epoch [2000/10000], Loss: 0.2486\n",
      "Epoch [3000/10000], Loss: 0.2306\n",
      "Epoch [4000/10000], Loss: 0.0185\n",
      "Epoch [5000/10000], Loss: 0.0000\n",
      "Epoch [6000/10000], Loss: 0.0000\n",
      "Epoch [7000/10000], Loss: 0.0000\n",
      "Epoch [8000/10000], Loss: 0.0000\n",
      "Epoch [9000/10000], Loss: 0.0000\n",
      "Epoch [10000/10000], Loss: 0.0000\n",
      "Accuracy: 1.00\n",
      "Model weights\n",
      "hidden.weight tensor([[ 0.0235,  1.1820],\n",
      "        [ 0.7438,  1.6688],\n",
      "        [ 3.1793,  2.9426],\n",
      "        [-2.2807,  1.3442]])\n",
      "hidden.bias tensor([-0.1908, -1.5145, -0.4592, -1.1064])\n",
      "linear2.weight tensor([[-1.3560, -2.4307,  3.1402,  1.8148]])\n",
      "linear2.bias tensor([-0.6152])\n"
     ]
    }
   ],
   "source": [
    "import torch\n",
    "import torch.nn as nn\n",
    "from collections import OrderedDict\n",
    "\n",
    "# Define the input and output data\n",
    "data_in = torch.tensor([[0,0], [0,1], [1,0], [1,1]], dtype=torch.float)\n",
    "data_target = torch.tensor([0, 1, 1, 0], dtype=torch.float)\n",
    "\n",
    "# Define the neural network model using OrderedDict\n",
    "model = nn.Sequential(OrderedDict([\n",
    "    ('hidden', nn.Linear(2, 4)), # 1st hidden 4 neurons\n",
    "    ('sigmoid', nn.Sigmoid()), # sigmoid activation func\n",
    "    ('linear2', nn.Linear(4, 1)), # output with 4 neurons\n",
    "    ('sigmoid', nn.Sigmoid()) # sigmoid activation func\n",
    "]))\n",
    "\n",
    "# Define the loss function and optimizer\n",
    "criterion = nn.MSELoss()\n",
    "optimizer = torch.optim.SGD(model.parameters(), lr=0.1)\n",
    "\n",
    "# Train the model\n",
    "for epoch in range(10000):\n",
    "    # Forward pass\n",
    "    outputs = model(data_in)\n",
    "    loss = criterion(outputs, data_target.view(-1, 1))\n",
    "    \n",
    "    # Backward and optimize\n",
    "    optimizer.zero_grad()\n",
    "    loss.backward()\n",
    "    optimizer.step()\n",
    "\n",
    "    if (epoch+1) % 1000 == 0:\n",
    "        print(f'Epoch [{epoch+1}/10000], Loss: {loss.item():.4f}')\n",
    "\n",
    "# Test the model\n",
    "with torch.no_grad():\n",
    "    predicted = model(data_in).round()\n",
    "    accuracy = (predicted == data_target.view(-1, 1)).sum().item() / data_target.size(0)\n",
    "    print(f'Accuracy: {accuracy:.2f}')\n",
    "    \n",
    "print(f'Model weights')\n",
    "for name, param in model.named_parameters():\n",
    "    if param.requires_grad:\n",
    "        print(name, param.data)\n",
    "        "
   ]
  },
  {
   "cell_type": "code",
   "execution_count": null,
   "id": "e29c65a2",
   "metadata": {},
   "outputs": [],
   "source": []
  }
 ],
 "metadata": {
  "kernelspec": {
   "display_name": "Python 3 (ipykernel)",
   "language": "python",
   "name": "python3"
  },
  "language_info": {
   "codemirror_mode": {
    "name": "ipython",
    "version": 3
   },
   "file_extension": ".py",
   "mimetype": "text/x-python",
   "name": "python",
   "nbconvert_exporter": "python",
   "pygments_lexer": "ipython3",
   "version": "3.9.13"
  }
 },
 "nbformat": 4,
 "nbformat_minor": 5
}
